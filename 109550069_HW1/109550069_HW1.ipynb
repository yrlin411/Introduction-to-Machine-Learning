{
 "cells": [
  {
   "cell_type": "markdown",
   "metadata": {},
   "source": [
    "## HW1: Logistic regression and Linear Regression using Gradient Descent\n",
    "In hw1, you need to implement linear regression by using only numpy, then train your implemented model by the provided dataset and test the performance with testing data\n",
    "\n",
    "Please note that only **NUMPY** can be used to implement your model, you will get no points by simply calling sklearn.linear_model.LinearRegression"
   ]
  },
  {
   "cell_type": "code",
   "execution_count": 83,
   "metadata": {},
   "outputs": [],
   "source": [
    "import numpy as np \n",
    "import pandas as pd\n",
    "import matplotlib.pyplot as plt\n",
    "import random\n"
   ]
  },
  {
   "cell_type": "markdown",
   "metadata": {},
   "source": [
    "# Part 1. Linear regression model"
   ]
  },
  {
   "cell_type": "markdown",
   "metadata": {},
   "source": [
    "## Load regression data"
   ]
  },
  {
   "cell_type": "code",
   "execution_count": 84,
   "metadata": {},
   "outputs": [],
   "source": [
    "x_train, x_test, y_train, y_test = np.load('regression_data.npy', allow_pickle=True)"
   ]
  },
  {
   "cell_type": "code",
   "execution_count": 85,
   "metadata": {},
   "outputs": [
    {
     "data": {
      "text/plain": [
       "[<matplotlib.lines.Line2D at 0x7fb85d03e430>]"
      ]
     },
     "execution_count": 85,
     "metadata": {},
     "output_type": "execute_result"
    },
    {
     "data": {
      "image/png": "[encoded data removed]",
      "text/plain": [
       "<Figure size 432x288 with 1 Axes>"
      ]
     },
     "metadata": {
      "needs_background": "light"
     },
     "output_type": "display_data"
    }
   ],
   "source": [
    "plt.plot(x_train, y_train, '.')"
   ]
  },
  {
   "cell_type": "markdown",
   "metadata": {},
   "source": [
    "## Train your model \n",
    "### Pseudo code:\n",
    "1. Random initialize the weights, intercepts of the linear model\n",
    "\n",
    "**for i in range(iteration)**\n",
    "\n",
    "    2. Feed foward the training data into the model, get the output prediction\n",
    "    3. Calculating training loss by Mean Square Error of predcition and ground truth data\n",
    "    4. Calculating the gradients\n",
    "    5. Updating the weights and intercepts by the gradients * learning rate \n",
    "    \n",
    "**End of training**"
   ]
  },
  {
   "cell_type": "code",
   "execution_count": 86,
   "metadata": {},
   "outputs": [],
   "source": [
    "msError = []\n",
    "\n",
    "def meanSquareError(test, predicts):\n",
    "    total = 0\n",
    "    # summation of the squared errors\n",
    "    for i in range(len(predicts)):\n",
    "        total += ((test[i] - predicts[i]) ** 2)\n",
    "    # get the average value\n",
    "    avgError = total / float(len(predicts))\n",
    "    return avgError\n",
    "    \n",
    "def trainLinearRegression(X, Y):  \n",
    "    # Assume y = ax + b, a is the slope, b is the intercept\n",
    "    # randomly initialize the weight a & intercept b\n",
    "    a = random.random()\n",
    "    b = random.random()\n",
    "\n",
    "    # initialize the learning rate and number of epoch\n",
    "    learningRate = 0.001\n",
    "    epoch = 10000\n",
    "\n",
    "    # learn in each epoch\n",
    "    n = len(X)\n",
    "    for i in range(epoch):\n",
    "        gradientA = 0\n",
    "        gradientB = 0\n",
    "        # get the summation for gradient\n",
    "        for j in range(n):\n",
    "            gradientA += (-2/n) * X[j] * (Y[j] - (a * X[j] + b))\n",
    "            gradientB += (-2/n) * (Y[j] - (a * X[j] + b))\n",
    "        # update the weight and intercept\n",
    "        a -= learningRate * gradientA\n",
    "        b -= learningRate * gradientB\n",
    "        # checking if loss function converges\n",
    "        msError.append(meanSquareError(Y, a * X + b))\n",
    "\n",
    "    # return the trained weight and intercept\n",
    "    return a, b\n",
    "    \n",
    "def lineLinearRegression(xTest):\n",
    "    # return the line y = ax + b\n",
    "    A, B = trainLinearRegression(x_train, y_train)\n",
    "    print(\"Weight:\", A, \"Intercept:\", B)\n",
    "    predictedY = A * xTest + B\n",
    "    return predictedY"
   ]
  },
  {
   "cell_type": "markdown",
   "metadata": {},
   "source": [
    "## Test the performance on the testing data\n",
    "Inference the test data (x_test) by your model and calculate the loss of (y_test, y_pred)"
   ]
  },
  {
   "cell_type": "code",
   "execution_count": 87,
   "metadata": {},
   "outputs": [
    {
     "name": "stdout",
     "output_type": "stream",
     "text": [
      "Weight: [52.74354002] Intercept: [-0.33375898]\n",
      "Mean Square Error: [110.4381912]\n"
     ]
    },
    {
     "data": {
      "text/plain": [
       "[<matplotlib.lines.Line2D at 0x7fb85d15b400>]"
      ]
     },
     "execution_count": 87,
     "metadata": {},
     "output_type": "execute_result"
    },
    {
     "data": {
      "image/png": "[encoded data removed]",
      "text/plain": [
       "<Figure size 432x288 with 1 Axes>"
      ]
     },
     "metadata": {
      "needs_background": "light"
     },
     "output_type": "display_data"
    }
   ],
   "source": [
    "y_pred = lineLinearRegression(x_test)\n",
    "print(\"Mean Square Error:\", meanSquareError(y_test, y_pred))\n",
    "# draw the learning curve\n",
    "plt.title('Learning Curve')\n",
    "plt.xlabel('Iterations')\n",
    "plt.ylabel('Loss')\n",
    "itr = range(0, 10000)\n",
    "plt.plot(itr, msError, 'red')"
   ]
  },
  {
   "cell_type": "markdown",
   "metadata": {},
   "source": [
    "# Part 2. Logistic regreesion model"
   ]
  },
  {
   "cell_type": "markdown",
   "metadata": {},
   "source": [
    "## Load classification data"
   ]
  },
  {
   "cell_type": "code",
   "execution_count": 88,
   "metadata": {},
   "outputs": [],
   "source": [
    "x_train, x_test, y_train, y_test = np.load('classification_data.npy', allow_pickle=True)"
   ]
  },
  {
   "cell_type": "code",
   "execution_count": 89,
   "metadata": {},
   "outputs": [
    {
     "data": {
      "text/plain": [
       "<matplotlib.collections.PathCollection at 0x7fb85d38bd90>"
      ]
     },
     "execution_count": 89,
     "metadata": {},
     "output_type": "execute_result"
    },
    {
     "data": {
      "image/png": "[encoded data removed]",
      "text/plain": [
       "<Figure size 432x288 with 1 Axes>"
      ]
     },
     "metadata": {
      "needs_background": "light"
     },
     "output_type": "display_data"
    }
   ],
   "source": [
    "plt.scatter(x_train, np.ones_like(x_train), c=y_train)"
   ]
  },
  {
   "cell_type": "raw",
   "metadata": {},
   "source": [
    "## Train your model \n",
    "### Pseudo code:\n",
    "1. Random initialize the weights, intercepts of the linear model\n",
    "\n",
    "**for i in range(iteration)**\n",
    "\n",
    "    2. Feed foward the training data into the model, get the output prediction\n",
    "    3. Calculating training loss by Cross entrooy Error of predcition and ground truth data\n",
    "    4. Calculating the gradients\n",
    "    5. Updating the weights and intercepts by the gradients * learning rate \n",
    "    \n",
    "**End of training**"
   ]
  },
  {
   "cell_type": "code",
   "execution_count": 90,
   "metadata": {},
   "outputs": [],
   "source": [
    "ceError = []\n",
    "\n",
    "def sigmoid(x):\n",
    "    sig = 1 / (1 + np.exp(-x))\n",
    "    return sig\n",
    "\n",
    "def crossEntropyError(test, predicts):\n",
    "    total = 0\n",
    "    for i in range(len(predicts)):\n",
    "        total += (test[i] * np.log(predicts[i]) + (1 - test[i]) * (np.log(1 - predicts[i])))\n",
    "    error = -1 * total\n",
    "    return error\n",
    "\n",
    "def trainLogisticRegression(X, Y):\n",
    "    # Assume y = ax + b, a is the slope, b is the intercept\n",
    "    # randomly initialize the weight a & intercept b\n",
    "    samples, features = X.shape\n",
    "    a = np.zeros(features)\n",
    "    b = random.random()\n",
    "    \n",
    "    # initialize the learning rate and number of epoch\n",
    "    learningRate = 0.01\n",
    "    epoch = 9000\n",
    "\n",
    "    # learn in each epoch\n",
    "    for i in range(epoch):\n",
    "        # predict for every epoch\n",
    "        predictedY = sigmoid(np.dot(X, a) + b)\n",
    "        gradientA = np.zeros(features)\n",
    "        gradientB = 0\n",
    "        # get the summation for gradient\n",
    "        for j in range(samples):\n",
    "            gradientA += (-2/samples) * X[j] * (Y[j] - predictedY[j])\n",
    "            gradientB += (-2/samples) * (Y[j] - predictedY[j])\n",
    "        # update the weight and intercept\n",
    "        a -= learningRate * gradientA\n",
    "        b -= learningRate * gradientB\n",
    "        # checking if loss function converges\n",
    "        ceError.append(crossEntropyError(Y, predictedY))\n",
    "\n",
    "    # return the trained weight and intercept\n",
    "    return a, b\n",
    "\n",
    "def classify(xTest):\n",
    "    A, B = trainLogisticRegression(x_train, y_train)\n",
    "    print(\"Weight:\", A, \"Intercept:\", B)\n",
    "    predictedY = sigmoid(np.dot(xTest, A) + B)\n",
    "    return predictedY"
   ]
  },
  {
   "cell_type": "code",
   "execution_count": 91,
   "metadata": {},
   "outputs": [
    {
     "name": "stdout",
     "output_type": "stream",
     "text": [
      "Weight: [4.32572715] Intercept: 1.3772571724013523\n",
      "Cross Entropy Error: 45.646631599949025\n"
     ]
    },
    {
     "data": {
      "text/plain": [
       "[<matplotlib.lines.Line2D at 0x7fb85d47ed60>]"
      ]
     },
     "execution_count": 91,
     "metadata": {},
     "output_type": "execute_result"
    },
    {
     "data": {
      "image/png": "[encoded data removed]",
      "text/plain": [
       "<Figure size 432x288 with 1 Axes>"
      ]
     },
     "metadata": {
      "needs_background": "light"
     },
     "output_type": "display_data"
    }
   ],
   "source": [
    "y_pred = classify(x_test)\n",
    "print(\"Cross Entropy Error:\", crossEntropyError(y_test, y_pred))\n",
    "# draw the learning curve\n",
    "plt.title('Learning Curve')\n",
    "plt.xlabel('Iterations')\n",
    "plt.ylabel('Loss')\n",
    "itr = range(0, 9000)\n",
    "plt.plot(itr, ceError, 'red')"
   ]
  }
 ],
 "metadata": {
  "kernelspec": {
   "display_name": "Python 3.8.13 ('threePointEight')",
   "language": "python",
   "name": "python3"
  },
  "language_info": {
   "codemirror_mode": {
    "name": "ipython",
    "version": 3
   },
   "file_extension": ".py",
   "mimetype": "text/x-python",
   "name": "python",
   "nbconvert_exporter": "python",
   "pygments_lexer": "ipython3",
   "version": "3.8.13"
  },
  "vscode": {
   "interpreter": {
    "hash": "e4a761a54976c9b97c30c3b3dcb15010d667d500d03cac3f5b2e6469512b4980"
   }
  }
 },
 "nbformat": 4,
 "nbformat_minor": 4
}
