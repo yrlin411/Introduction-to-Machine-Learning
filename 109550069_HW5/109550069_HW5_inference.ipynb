{
  "nbformat": 4,
  "nbformat_minor": 0,
  "metadata": {
    "colab": {
      "provenance": []
    },
    "kernelspec": {
      "name": "python3",
      "display_name": "Python 3"
    },
    "language_info": {
      "name": "python"
    },
    "accelerator": "GPU",
    "gpuClass": "standard"
  },
  "cells": [
    {
      "cell_type": "code",
      "source": [
        "from google.colab import drive\n",
        "drive.mount('/content/drive')"
      ],
      "metadata": {
        "id": "d_SvFfI01-J-",
        "colab": {
          "base_uri": "https://localhost:8080/"
        },
        "outputId": "e45a1bc7-7bcf-44e3-cb6f-dbcb5bb0e5a3"
      },
      "execution_count": 2,
      "outputs": [
        {
          "output_type": "stream",
          "name": "stdout",
          "text": [
            "Drive already mounted at /content/drive; to attempt to forcibly remount, call drive.mount(\"/content/drive\", force_remount=True).\n"
          ]
        }
      ]
    },
    {
      "cell_type": "code",
      "execution_count": 3,
      "metadata": {
        "id": "QDA77bOe171u"
      },
      "outputs": [],
      "source": [
        "import csv\n",
        "import cv2\n",
        "import numpy as np\n",
        "import random\n",
        "import os\n",
        "\n",
        "from tqdm import tqdm\n",
        "\n",
        "import torch\n",
        "import torch.nn as nn\n",
        "from torch.utils.data import Dataset, DataLoader\n",
        "import torch.nn.functional as F\n",
        "from torchvision.transforms.functional import to_tensor\n",
        "\n",
        "from collections import OrderedDict"
      ]
    },
    {
      "cell_type": "code",
      "source": [
        "TRAIN_PATH = \"/content/drive/MyDrive/hw5/captcha-hacker/train\"\n",
        "TEST_PATH = \"/content/drive/MyDrive/hw5/captcha-hacker/test\"\n",
        "device = \"cuda\""
      ],
      "metadata": {
        "id": "RDO7a89SCrbf"
      },
      "execution_count": 4,
      "outputs": []
    },
    {
      "cell_type": "code",
      "source": [
        "characters = '0123456789abcdefghijklmnopqrstuvwxyz'"
      ],
      "metadata": {
        "id": "BuLfIur06JKa"
      },
      "execution_count": 5,
      "outputs": []
    },
    {
      "cell_type": "code",
      "execution_count": 6,
      "metadata": {
        "id": "DGZbKE5u1718"
      },
      "outputs": [],
      "source": [
        "class taskData(Dataset):\n",
        "  def __init__(self, data, root):\n",
        "    self.root = root\n",
        "    self.data = data\n",
        "\n",
        "  def __getitem__(self, index):\n",
        "    filename, label = self.data[index]\n",
        "    img = to_tensor(cv2.imread(f\"{self.root}/{filename}\"))\n",
        "    return img, filename\n",
        "\n",
        "  def __len__(self):\n",
        "    return len(self.data)"
      ]
    },
    {
      "cell_type": "code",
      "source": [
        "test_data1 = []\n",
        "test_data2 = []\n",
        "test_data3 = []\n",
        "\n",
        "with open(f'{TEST_PATH}/../sample_submission.csv', newline='') as csvfile:\n",
        "  for row in csv.reader(csvfile, delimiter=','):\n",
        "    if row[0].startswith(\"task1\"):\n",
        "      test_data1.append(row)\n",
        "    elif row[0].startswith(\"task2\"):\n",
        "      test_data2.append(row)\n",
        "    elif row[0].startswith(\"task3\"):\n",
        "      test_data3.append(row)\n",
        "\n",
        "ds1 = taskData(test_data1, root=TEST_PATH)\n",
        "ds2 = taskData(test_data2, root=TEST_PATH)\n",
        "ds3 = taskData(test_data3, root=TEST_PATH)"
      ],
      "metadata": {
        "id": "H68Fa-UuAfIg"
      },
      "execution_count": 7,
      "outputs": []
    },
    {
      "cell_type": "code",
      "source": [
        "class Model(nn.Module):\n",
        "  def __init__(self): # the output should be limited from 0 to z\n",
        "    super(Model, self).__init__()\n",
        "    channels = [32, 64, 128, 256, 256]\n",
        "    pools = [2, 2, 2, 2, (2, 1)]\n",
        "    modules = OrderedDict()\n",
        "    def blocks(name, in_channels, out_channels):\n",
        "        modules[f'conv{name}'] = nn.Conv2d(in_channels, out_channels, kernel_size=3, padding=(1, 1))\n",
        "        modules[f'batchnorm{name}'] = nn.BatchNorm2d(out_channels)\n",
        "        modules[f'relu{name}'] = nn.ReLU(inplace=True)  \n",
        "    last_channel = 3\n",
        "    for block, (n_channel, k_pool) in enumerate(zip(channels, pools)):\n",
        "        for layer in range(1, 3):\n",
        "            blocks(f'{block+1}{layer}', last_channel, n_channel)\n",
        "            last_channel = n_channel\n",
        "        modules[f'maxpool{block + 1}'] = nn.MaxPool2d(k_pool)\n",
        "    modules[f'dropout'] = nn.Dropout(0.25, inplace=True)   \n",
        "    self.cnn = nn.Sequential(modules)\n",
        "    self.lstm = nn.LSTM(input_size=512, hidden_size=128, num_layers=2, bidirectional=True)\n",
        "    self.final = nn.Linear(in_features=256, out_features=36)\n",
        "\n",
        "  def forward(self, x):\n",
        "    x = self.cnn(x)\n",
        "    x = x.reshape(x.shape[0], -1, x.shape[-1])\n",
        "    x = x.permute(2, 0, 1)\n",
        "    x, _ = self.lstm(x)\n",
        "    x = self.final(x)\n",
        "    return x"
      ],
      "metadata": {
        "id": "cnjVpdxsbscg"
      },
      "execution_count": 8,
      "outputs": []
    },
    {
      "cell_type": "code",
      "source": [
        "def decode(sequence, num):\n",
        "  a = ''.join([characters[x] for x in sequence])\n",
        "  if num == 1:\n",
        "    return a[0]\n",
        "  elif num == 2:\n",
        "    return a[0] + a[3]\n",
        "  else:\n",
        "    s = ''.join([x for j, x in enumerate(a[:-1]) if x != characters[0] and j != 0])\n",
        "    if len(s) < 2 and a[3] == '0' and a[4] == '0':\n",
        "      s += '0'\n",
        "    if len(s) < 2 and a[1] == '0' and a[2] == '0':\n",
        "      s = '0' + s\n",
        "    s = a[0] + s\n",
        "    if len(s) == 4:\n",
        "      if s[2] != s[3]:\n",
        "        s = \"\".join(sorted(set(s), key=s.index))\n",
        "      else:\n",
        "        s = s[:3]\n",
        "    s += a[-1]\n",
        "    return s"
      ],
      "metadata": {
        "id": "_35ZMtDMvbmr"
      },
      "execution_count": 9,
      "outputs": []
    },
    {
      "cell_type": "code",
      "source": [
        "!cp -r ./drive/MyDrive/hw5/captcha-hacker/* ."
      ],
      "metadata": {
        "id": "ZbO78hqXviN2"
      },
      "execution_count": 15,
      "outputs": []
    },
    {
      "cell_type": "code",
      "source": [
        "model1 = Model().to(device)\n",
        "model1 = torch.load('model1.pth')\n",
        "model1.eval()\n",
        "\n",
        "with open('submission.csv', 'w', newline='') as csvfile:\n",
        "  csv_writer = csv.writer(csvfile, delimiter=',')\n",
        "  csv_writer.writerow([\"filename\", \"label\"])\n",
        "  for image, filenames in ds1:\n",
        "    output = model1(image.unsqueeze(0).to(device))\n",
        "    outputs = output.detach().permute(1, 0, 2).argmax(dim=-1)\n",
        "    csv_writer.writerow([filenames, decode(outputs[0], 1)])"
      ],
      "metadata": {
        "id": "23-pzibvt1lC"
      },
      "execution_count": 11,
      "outputs": []
    },
    {
      "cell_type": "code",
      "source": [
        "model2 = Model().to(device)\n",
        "model2 = torch.load('model2.pth')\n",
        "model2.eval()\n",
        "\n",
        "with open('submission.csv', 'a', newline='') as csvfile:\n",
        "  csv_writer = csv.writer(csvfile, delimiter=',')\n",
        "  for image, filename in ds2:\n",
        "    output = model2(image.unsqueeze(0).to(device))\n",
        "    outputs = output.detach().permute(1, 0, 2).argmax(dim=-1)\n",
        "    csv_writer.writerow([filename, decode(outputs[0], 2)])"
      ],
      "metadata": {
        "id": "d8E1zeX2t3nv"
      },
      "execution_count": 12,
      "outputs": []
    },
    {
      "cell_type": "code",
      "source": [
        "model3 = Model().to(device)\n",
        "model3 = torch.load('model3.pth')\n",
        "model3.eval()\n",
        "\n",
        "with open('submission.csv', 'a', newline='') as csvfile:\n",
        "  csv_writer = csv.writer(csvfile, delimiter=',')\n",
        "  for image, filename in ds3:\n",
        "    output = model3(image.unsqueeze(0).to(device))\n",
        "    outputs = output.detach().permute(1, 0, 2).argmax(dim=-1)\n",
        "    csv_writer.writerow([filename, decode(outputs[0], 3)])"
      ],
      "metadata": {
        "id": "-EP01uzPt6HB"
      },
      "execution_count": 13,
      "outputs": []
    },
    {
      "cell_type": "code",
      "source": [
        "!cp submission.csv ./drive/MyDrive/hw5/captcha-hacker/submission.csv "
      ],
      "metadata": {
        "id": "bwNbGRcHt959"
      },
      "execution_count": 14,
      "outputs": []
    }
  ]
}