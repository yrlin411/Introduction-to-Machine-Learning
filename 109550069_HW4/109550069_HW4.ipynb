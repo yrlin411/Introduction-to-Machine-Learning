{
 "cells": [
  {
   "cell_type": "code",
   "execution_count": 74,
   "metadata": {},
   "outputs": [],
   "source": [
    "import numpy as np\n",
    "import pandas as pd\n",
    "from sklearn.svm import SVC, SVR\n",
    "from sklearn.metrics import accuracy_score"
   ]
  },
  {
   "cell_type": "markdown",
   "metadata": {},
   "source": [
    "## Load data"
   ]
  },
  {
   "cell_type": "code",
   "execution_count": 75,
   "metadata": {},
   "outputs": [],
   "source": [
    "x_train = np.load(\"x_train.npy\")\n",
    "y_train = np.load(\"y_train.npy\")\n",
    "x_test = np.load(\"x_test.npy\")\n",
    "# y_test = np.load(\"y_test.npy\")"
   ]
  },
  {
   "cell_type": "code",
   "execution_count": 76,
   "metadata": {},
   "outputs": [
    {
     "name": "stdout",
     "output_type": "stream",
     "text": [
      "(7000, 300)\n"
     ]
    }
   ],
   "source": [
    "# 7000 data with 300 features\n",
    "print(x_train.shape)"
   ]
  },
  {
   "cell_type": "code",
   "execution_count": 77,
   "metadata": {},
   "outputs": [
    {
     "name": "stdout",
     "output_type": "stream",
     "text": [
      "[0 1]\n"
     ]
    }
   ],
   "source": [
    "# It's a binary classification problem \n",
    "print(np.unique(y_train))"
   ]
  },
  {
   "cell_type": "markdown",
   "metadata": {},
   "source": [
    "## Question 1\n",
    "K-fold data partition: Implement the K-fold cross-validation function. Your function should take K as an argument and return a list of lists (len(list) should equal to K), which contains K elements. Each element is a list contains two parts, the first part contains the index of all training folds, e.g. Fold 2 to Fold 5 in split 1. The second part contains the index of validation fold, e.g. Fold 1 in  split 1"
   ]
  },
  {
   "cell_type": "code",
   "execution_count": 78,
   "metadata": {},
   "outputs": [],
   "source": [
    "def cross_validation(x_train, y_train, k=5):\n",
    "    \n",
    "    kFold = []\n",
    "\n",
    "    left = len(x_train) % k\n",
    "    startVal = 0\n",
    "    endVal = 0\n",
    "    # get the data and shuffle before partition\n",
    "    index = np.arange(len(x_train))\n",
    "    np.random.seed(5)\n",
    "    np.random.shuffle(index)\n",
    "    # run through every fold\n",
    "    for i in range(k):\n",
    "        # calculate the index used for validation in each fold\n",
    "        foldLength = len(x_train) // k\n",
    "        if left > 0: # add one more space to the current fold if still spaces not classified\n",
    "            foldLength += 1\n",
    "            left -= 1\n",
    "        endVal = startVal + foldLength\n",
    "        # find the index used for training in each fold\n",
    "        trainIndex = list(range(0, startVal)) + list(range(endVal, len(x_train)))\n",
    "        # store the splits of data\n",
    "        kFold.append([index[trainIndex], index[range(startVal, endVal)]])\n",
    "        startVal += foldLength\n",
    "\n",
    "    return kFold "
   ]
  },
  {
   "cell_type": "code",
   "execution_count": 79,
   "metadata": {},
   "outputs": [],
   "source": [
    "kfold_data = cross_validation(x_train, y_train, k=10)\n",
    "assert len(kfold_data) == 10 # should contain 10 fold of data\n",
    "assert len(kfold_data[0]) == 2 # each element should contain train fold and validation fold\n",
    "assert kfold_data[0][1].shape[0] == 700 # The number of data in each validation fold should equal to training data divieded by K"
   ]
  },
  {
   "cell_type": "markdown",
   "metadata": {},
   "source": [
    "## example"
   ]
  },
  {
   "cell_type": "code",
   "execution_count": 80,
   "metadata": {},
   "outputs": [
    {
     "name": "stdout",
     "output_type": "stream",
     "text": [
      "Split: 1, Training index: [ 0  2  3  4  5  6 10 11 12 13 14 15 16 17 18 19], Validation index: [1 7 8 9]\n",
      "Split: 2, Training index: [ 0  1  2  3  4  5  6  7  8  9 10 11 13 16 18 19], Validation index: [12 14 15 17]\n",
      "Split: 3, Training index: [ 1  3  4  5  6  7  8  9 10 11 12 14 15 17 18 19], Validation index: [ 0  2 13 16]\n",
      "Split: 4, Training index: [ 0  1  2  4  7  8  9 10 11 12 13 14 15 16 17 19], Validation index: [ 3  5  6 18]\n",
      "Split: 5, Training index: [ 0  1  2  3  5  6  7  8  9 12 13 14 15 16 17 18], Validation index: [ 4 10 11 19]\n"
     ]
    }
   ],
   "source": [
    "from sklearn.model_selection import KFold\n",
    "\n",
    "X = np.arange(20)\n",
    "kf = KFold(n_splits=5, shuffle=True)\n",
    "kfold_data= []\n",
    "for i, (train_index, val_index) in enumerate(kf.split(X)):\n",
    "    print(\"Split: %s, Training index: %s, Validation index: %s\" % (i+1, train_index, val_index))\n",
    "    kfold_data.append([train_index, val_index])"
   ]
  },
  {
   "cell_type": "code",
   "execution_count": 81,
   "metadata": {},
   "outputs": [],
   "source": [
    "assert len(kfold_data) == 5 # should contain 5 fold of data\n",
    "assert len(kfold_data[0]) == 2 # each element should contains index of training fold and validation fold\n",
    "assert kfold_data[0][1].shape[0] == 4 # The number of data in each validation fold should equal to training data divieded by K"
   ]
  },
  {
   "cell_type": "markdown",
   "metadata": {},
   "source": [
    "## Question 2\n",
    "Using sklearn.svm.SVC to train a classifier on the provided train set and conduct the grid search of “C” and “gamma” to find the best parameters by cross-validation."
   ]
  },
  {
   "cell_type": "code",
   "execution_count": 82,
   "metadata": {},
   "outputs": [],
   "source": [
    "kfold_data = cross_validation(x_train, y_train, k=5)\n",
    "bestScore = 0\n",
    "best_parameters = {} # a dictionary for saving best C and gamma\n",
    "allScore = [] # for plotting\n",
    "\n",
    "# search some outlier tolerance (bigger C, lower tolerance)\n",
    "for C in [0.1, 1, 10, 100, 1000, 10000, 100000]:\n",
    "    valScore = []\n",
    "    # search some range of influence (bigger gamma, smaller range)\n",
    "    for gamma in [0.000001 ,0.00001, 0.0001, 0.001, 0.01]:\n",
    "        totalScore = 0\n",
    "        # train and predict with each fold\n",
    "        for train, val in kfold_data:\n",
    "            clf = SVC(C=C, kernel='rbf', gamma=gamma) # rbf works like weighted nearest neighbor\n",
    "            clf.fit(x_train[train], y_train[train])\n",
    "            y_pred = clf.predict(x_train[val])\n",
    "            totalScore += accuracy_score(y_train[val], y_pred)\n",
    "        avgScore = totalScore / 5\n",
    "        valScore.append(avgScore)\n",
    "        # update the best score\n",
    "        if avgScore > bestScore:\n",
    "            bestScore = avgScore\n",
    "            best_parameters = {\"C\": C, \"gamma\": gamma}\n",
    "    # record for plotting\n",
    "    allScore.append(valScore)"
   ]
  },
  {
   "cell_type": "code",
   "execution_count": 83,
   "metadata": {},
   "outputs": [
    {
     "name": "stdout",
     "output_type": "stream",
     "text": [
      "{'C': 1, 'gamma': 0.0001}\n"
     ]
    }
   ],
   "source": [
    "print(best_parameters)"
   ]
  },
  {
   "cell_type": "markdown",
   "metadata": {},
   "source": [
    "## Question 3\n",
    "Plot the grid search results of your SVM. The x, y represents the hyperparameters of “gamma” and “C”, respectively. And the color represents the average score of validation folds\n",
    "You reults should be look like this reference image below ![image](https://miro.medium.com/max/1296/1*wGWTup9r4cVytB5MOnsjdQ.png) "
   ]
  },
  {
   "cell_type": "code",
   "execution_count": 84,
   "metadata": {},
   "outputs": [
    {
     "data": {
      "image/png": "[encoded data removed]",
      "text/plain": [
       "<Figure size 864x432 with 2 Axes>"
      ]
     },
     "metadata": {
      "needs_background": "light"
     },
     "output_type": "display_data"
    }
   ],
   "source": [
    "import matplotlib.pyplot as plt\n",
    "plt.figure(figsize=(12, 6))\n",
    "plt.imshow(allScore, interpolation='nearest', cmap=plt.cm.RdBu)\n",
    "allScore = np.array(allScore)\n",
    "for g in range(allScore.shape[0]):\n",
    "    for c in range(allScore.shape[1]):\n",
    "        plt.text(c, g, '%.2f' % allScore[g][c], horizontalalignment='center', verticalalignment='center', color='white')\n",
    "plt.title('Hyperparameter Gridsearch')\n",
    "plt.xlabel('Gamma Parameter')\n",
    "plt.ylabel('C Parameter')\n",
    "c = [0.1, 1, 10, 100, 1000, 10000, 100000]\n",
    "gamma = [0.000001 ,0.00001, 0.0001, 0.001, 0.01]\n",
    "plt.xticks(np.arange(len(gamma)), gamma)\n",
    "plt.yticks(np.arange(len(c)), c)\n",
    "plt.colorbar().outline.set_visible(False)\n",
    "ax = plt.gca()\n",
    "ax.spines['top'].set_visible(False)\n",
    "ax.spines['right'].set_visible(False)\n",
    "ax.spines['bottom'].set_visible(False)\n",
    "ax.spines['left'].set_visible(False)"
   ]
  },
  {
   "cell_type": "markdown",
   "metadata": {},
   "source": [
    "## Question 4\n",
    "Train your SVM model by the best parameters you found from question 2 on the whole training set and evaluate the performance on the test set."
   ]
  },
  {
   "cell_type": "code",
   "execution_count": 85,
   "metadata": {},
   "outputs": [
    {
     "ename": "NameError",
     "evalue": "name 'y_test' is not defined",
     "output_type": "error",
     "traceback": [
      "\u001b[0;31m---------------------------------------------------------------------------\u001b[0m",
      "\u001b[0;31mNameError\u001b[0m                                 Traceback (most recent call last)",
      "\u001b[1;32m/Users/linyurou/2022_Fall_ML/HW4/HW4.ipynb Cell 18\u001b[0m in \u001b[0;36m<cell line: 4>\u001b[0;34m()\u001b[0m\n\u001b[1;32m      <a href='vscode-notebook-cell:/Users/linyurou/2022_Fall_ML/HW4/HW4.ipynb#X23sZmlsZQ%3D%3D?line=1'>2</a>\u001b[0m best_model\u001b[39m.\u001b[39mfit(x_train,y_train)\n\u001b[1;32m      <a href='vscode-notebook-cell:/Users/linyurou/2022_Fall_ML/HW4/HW4.ipynb#X23sZmlsZQ%3D%3D?line=2'>3</a>\u001b[0m y_pred \u001b[39m=\u001b[39m best_model\u001b[39m.\u001b[39mpredict(x_test)\n\u001b[0;32m----> <a href='vscode-notebook-cell:/Users/linyurou/2022_Fall_ML/HW4/HW4.ipynb#X23sZmlsZQ%3D%3D?line=3'>4</a>\u001b[0m \u001b[39mprint\u001b[39m(\u001b[39m\"\u001b[39m\u001b[39mAccuracy score: \u001b[39m\u001b[39m\"\u001b[39m, accuracy_score(y_pred, y_test))\n",
      "\u001b[0;31mNameError\u001b[0m: name 'y_test' is not defined"
     ]
    }
   ],
   "source": [
    "best_model = SVC(C=1, kernel='rbf', gamma=0.0001)\n",
    "best_model.fit(x_train,y_train)\n",
    "y_pred = best_model.predict(x_test)\n",
    "print(\"Accuracy score: \", accuracy_score(y_pred, y_test))"
   ]
  }
 ],
 "metadata": {
  "kernelspec": {
   "display_name": "Python 3.8.13 ('threePointEight')",
   "language": "python",
   "name": "python3"
  },
  "language_info": {
   "codemirror_mode": {
    "name": "ipython",
    "version": 3
   },
   "file_extension": ".py",
   "mimetype": "text/x-python",
   "name": "python",
   "nbconvert_exporter": "python",
   "pygments_lexer": "ipython3",
   "version": "3.8.13"
  },
  "vscode": {
   "interpreter": {
    "hash": "e4a761a54976c9b97c30c3b3dcb15010d667d500d03cac3f5b2e6469512b4980"
   }
  }
 },
 "nbformat": 4,
 "nbformat_minor": 4
}
